{
 "cells": [
  {
   "cell_type": "markdown",
   "id": "30485fbb",
   "metadata": {},
   "source": [
    "# Accompanying python script of the Cytoscape / py4cytoscape demonstration\n",
    "# Author: Marton Olbei\n",
    "# Date: 30/09/2021"
   ]
  },
  {
   "cell_type": "code",
   "execution_count": 1,
   "id": "823d18fe",
   "metadata": {},
   "outputs": [],
   "source": [
    "# Let's import the library\n",
    "import py4cytoscape as p4c\n",
    "\n",
    "# Note: you will need to install the FileTransfer app in Cytoscape for this to work with a Jupyter Notebook. \n",
    "# It should be fine with plain .py scripts"
   ]
  },
  {
   "cell_type": "markdown",
   "id": "1a6fe7e9",
   "metadata": {},
   "source": [
    "Make sure to open Cytoscape first, and load the network you'd like to analyse\n",
    "in this short example we're going to work on DummyNetwork.cys (in GitHub repo).\n",
    " You can load networks into Cytoscape using py4cytoscape, but that is outside the scope of this\n",
    " tutorial. However, the documentation is very thorough, so if you are interested\n",
    " please do give it a read. https://py4cytoscape.readthedocs.io/"
   ]
  },
  {
   "cell_type": "code",
   "execution_count": 3,
   "id": "bd465df0",
   "metadata": {},
   "outputs": [
    {
     "name": "stdout",
     "output_type": "stream",
     "text": [
      "You are connected to Cytoscape!\n"
     ]
    },
    {
     "data": {
      "text/plain": [
       "'You are connected to Cytoscape!'"
      ]
     },
     "execution_count": 3,
     "metadata": {},
     "output_type": "execute_result"
    }
   ],
   "source": [
    "# Let's check our connection\n",
    "p4c.cytoscape_ping()\n"
   ]
  },
  {
   "cell_type": "code",
   "execution_count": 4,
   "id": "7f178548",
   "metadata": {},
   "outputs": [
    {
     "data": {
      "text/plain": [
       "['degree-circle',\n",
       " 'attributes-layout',\n",
       " 'kamada-kawai',\n",
       " 'force-directed',\n",
       " 'cose',\n",
       " 'hierarchical',\n",
       " 'attribute-circle',\n",
       " 'stacked-node-layout',\n",
       " 'circular',\n",
       " 'grid',\n",
       " 'autoannotate-cose-cluster',\n",
       " 'fruchterman-rheingold',\n",
       " 'isom',\n",
       " 'force-directed-cl']"
      ]
     },
     "execution_count": 4,
     "metadata": {},
     "output_type": "execute_result"
    }
   ],
   "source": [
    "# Let's change the layout of the network\n",
    "# List available layouts\n",
    "p4c.get_layout_names()"
   ]
  },
  {
   "cell_type": "code",
   "execution_count": 9,
   "id": "ab49ddd8",
   "metadata": {},
   "outputs": [
    {
     "data": {
      "text/plain": [
       "{}"
      ]
     },
     "execution_count": 9,
     "metadata": {},
     "output_type": "execute_result"
    }
   ],
   "source": [
    "# Change layouts\n",
    "p4c.layout_network('grid')"
   ]
  },
  {
   "cell_type": "code",
   "execution_count": 10,
   "id": "79490e84",
   "metadata": {},
   "outputs": [
    {
     "data": {
      "text/plain": [
       "{}"
      ]
     },
     "execution_count": 10,
     "metadata": {},
     "output_type": "execute_result"
    }
   ],
   "source": [
    "p4c.layout_network('kamada-kawai')"
   ]
  },
  {
   "cell_type": "code",
   "execution_count": 11,
   "id": "f7a515d6",
   "metadata": {},
   "outputs": [
    {
     "data": {
      "text/plain": [
       "{}"
      ]
     },
     "execution_count": 11,
     "metadata": {},
     "output_type": "execute_result"
    }
   ],
   "source": [
    "p4c.layout_network('circular')"
   ]
  },
  {
   "cell_type": "code",
   "execution_count": 18,
   "id": "b52283fd",
   "metadata": {},
   "outputs": [
    {
     "name": "stdout",
     "output_type": "stream",
     "text": [
      "style_name not specified, so updating \"default\" style.\n",
      "style_name not specified, so updating \"default\" style.\n"
     ]
    },
    {
     "data": {
      "text/plain": [
       "''"
      ]
     },
     "execution_count": 18,
     "metadata": {},
     "output_type": "execute_result"
    }
   ],
   "source": [
    "# Change other visual properties\n",
    "# default node size\n",
    "\n",
    "p4c.set_node_size_default(50)"
   ]
  },
  {
   "cell_type": "code",
   "execution_count": 20,
   "id": "64e1f2e2",
   "metadata": {},
   "outputs": [
    {
     "data": {
      "text/plain": [
       "{'nodes': [100, 74, 76], 'edges': []}"
      ]
     },
     "execution_count": 20,
     "metadata": {},
     "output_type": "execute_result"
    }
   ],
   "source": [
    "# select just a subset of nodes\n",
    "my_nodes = ['BTRC', 'SMAD5', 'PML']\n",
    "p4c.select_nodes(my_nodes, 'name')"
   ]
  },
  {
   "cell_type": "code",
   "execution_count": 24,
   "id": "84f523ff",
   "metadata": {},
   "outputs": [
    {
     "name": "stdout",
     "output_type": "stream",
     "text": [
      "style_name not specified, so updating \"default\" style.\n"
     ]
    },
    {
     "data": {
      "text/plain": [
       "''"
      ]
     },
     "execution_count": 24,
     "metadata": {},
     "output_type": "execute_result"
    }
   ],
   "source": [
    "# colour nodes by 'expression'\n",
    "my_ranges=[-5,0,5]\n",
    "my_colours = ['#5577FF','#FFFFFF','#FF7755']\n",
    "p4c.set_node_color_mapping(table_column='Expression1', table_column_values=my_ranges, colors=my_colours)"
   ]
  },
  {
   "cell_type": "code",
   "execution_count": 27,
   "id": "b47a34df",
   "metadata": {},
   "outputs": [
    {
     "data": {
      "text/plain": [
       "{'networkTitle': 'DummyNetwork (undirected)',\n",
       " 'nodeCount': '46',\n",
       " 'edgeCount': '91',\n",
       " 'avNeighbors': '3.869565217391304',\n",
       " 'diameter': '7',\n",
       " 'radius': '4',\n",
       " 'avSpl': '2.829951690821256',\n",
       " 'cc': '0.22505185209788792',\n",
       " 'density': '0.08599033816425121',\n",
       " 'heterogeneity': '1.03876389302446',\n",
       " 'centralization': '0.305050505050505',\n",
       " 'ncc': '1',\n",
       " 'time': '0.022'}"
      ]
     },
     "execution_count": 27,
     "metadata": {},
     "output_type": "execute_result"
    }
   ],
   "source": [
    "# analyze network to get various network statistics\n",
    "\n",
    "p4c.analyze_network(directed=False)"
   ]
  },
  {
   "cell_type": "code",
   "execution_count": 28,
   "id": "fd9984f6",
   "metadata": {},
   "outputs": [
    {
     "name": "stdout",
     "output_type": "stream",
     "text": [
      "style_name not specified, so updating \"default\" style.\n",
      "style_name not specified, so updating \"default\" style.\n"
     ]
    },
    {
     "data": {
      "text/plain": [
       "''"
      ]
     },
     "execution_count": 28,
     "metadata": {},
     "output_type": "execute_result"
    }
   ],
   "source": [
    "# change node size according to degree\n",
    "p4c.set_node_size_mapping(table_column='Degree',table_column_values=[1,18],sizes=[15,100])"
   ]
  }
 ],
 "metadata": {
  "kernelspec": {
   "display_name": "Python 3.8.8 64-bit ('base': conda)",
   "language": "python",
   "name": "python388jvsc74a57bd016e5ad4ba46e628926ad94d2d5a1e39d22acf7147d48812732b34df24e32001b"
  },
  "language_info": {
   "codemirror_mode": {
    "name": "ipython",
    "version": 3
   },
   "file_extension": ".py",
   "mimetype": "text/x-python",
   "name": "python",
   "nbconvert_exporter": "python",
   "pygments_lexer": "ipython3",
   "version": "3.8.8"
  }
 },
 "nbformat": 4,
 "nbformat_minor": 5
}
